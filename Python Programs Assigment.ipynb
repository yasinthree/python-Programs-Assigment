{
 "cells": [
  {
   "cell_type": "markdown",
   "metadata": {},
   "source": [
    "# #Write a Program to Check whether year is leap year or not using Conditional Operator"
   ]
  },
  {
   "cell_type": "code",
   "execution_count": 3,
   "metadata": {},
   "outputs": [
    {
     "name": "stdout",
     "output_type": "stream",
     "text": [
      "enter the number1340\n",
      "leap year\n"
     ]
    }
   ],
   "source": [
    "n = int(input(\"enter the number\"))\n",
    "if n%400==0:\n",
    "    print(\"leap year\")\n",
    "if n%4==0:\n",
    "    print(\"leap year\")\n",
    "elif n%100!=0:\n",
    "    print(\"not a leap year\")\n",
    "else:\n",
    "    print(\"not a leap year\")"
   ]
  },
  {
   "cell_type": "markdown",
   "metadata": {},
   "source": [
    "## Write a program to check whether character is an alphabet or not using conditional operator"
   ]
  },
  {
   "cell_type": "code",
   "execution_count": 10,
   "metadata": {},
   "outputs": [
    {
     "name": "stdout",
     "output_type": "stream",
     "text": [
      "please enter your own character:Hai My Yasin\n",
      "The Given Character Hai My Yasin is an Alphabet\n"
     ]
    }
   ],
   "source": [
    "ch = input(\"please enter your own character:\")\n",
    "if((ch>=\"a\"and ch<=\"z\")or(ch>=\"A\"and ch<=\"Z\")):\n",
    "    print(\"The Given Character\",ch,\"is an Alphabet\")\n",
    "else:\n",
    "     print(\"The Given Character\",ch,\"Not an Alphabet\")\n",
    "        "
   ]
  },
  {
   "cell_type": "markdown",
   "metadata": {},
   "source": [
    "# #Write a program to find maximum between two numbers with/without using conditional operator"
   ]
  },
  {
   "cell_type": "code",
   "execution_count": 14,
   "metadata": {},
   "outputs": [
    {
     "name": "stdout",
     "output_type": "stream",
     "text": [
      "please enter the first value a:20\n",
      "please enter the second value b:34\n",
      "34.0is greater than 20.0\n"
     ]
    }
   ],
   "source": [
    "a = float(input(\"please enter the first value a:\"))\n",
    "b = float(input(\"please enter the second value b:\"))\n",
    "if(a>b):\n",
    "    print(\"{0} is greater than {1}\".format(a,b))\n",
    "elif(b>a):\n",
    "    print(\"{0}is greater than {1}\".format(b,a))\n",
    "else:\n",
    "    print(\"both a and b are equal\")"
   ]
  },
  {
   "cell_type": "markdown",
   "metadata": {},
   "source": [
    "# #write a program to find maximum between three numbers using conditional operator"
   ]
  },
  {
   "cell_type": "code",
   "execution_count": 16,
   "metadata": {},
   "outputs": [
    {
     "name": "stdout",
     "output_type": "stream",
     "text": [
      "the largest num is 55\n"
     ]
    }
   ],
   "source": [
    "num1 = 10\n",
    "num2 =55\n",
    "num3 = 34\n",
    "if(num1>=num2)and(num1>=num3):\n",
    "    largest = num1\n",
    "elif(num2>=num1)and(num2>=num3):\n",
    "    largest = num2\n",
    "else:\n",
    "    largest = num3\n",
    "print(\"the largest num is\",largest)\n",
    "    "
   ]
  },
  {
   "cell_type": "code",
   "execution_count": null,
   "metadata": {},
   "outputs": [],
   "source": []
  }
 ],
 "metadata": {
  "kernelspec": {
   "display_name": "Python 3",
   "language": "python",
   "name": "python3"
  },
  "language_info": {
   "codemirror_mode": {
    "name": "ipython",
    "version": 3
   },
   "file_extension": ".py",
   "mimetype": "text/x-python",
   "name": "python",
   "nbconvert_exporter": "python",
   "pygments_lexer": "ipython3",
   "version": "3.7.3"
  }
 },
 "nbformat": 4,
 "nbformat_minor": 2
}
